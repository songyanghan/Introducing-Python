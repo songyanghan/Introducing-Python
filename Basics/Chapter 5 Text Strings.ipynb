{
 "cells": [
  {
   "cell_type": "code",
   "execution_count": 3,
   "metadata": {},
   "outputs": [
    {
     "data": {
      "text/plain": [
       "\"'Hi' is used for greeting!\""
      ]
     },
     "execution_count": 3,
     "metadata": {},
     "output_type": "execute_result"
    }
   ],
   "source": [
    "\"'Hi' is used for greeting!\""
   ]
  },
  {
   "cell_type": "code",
   "execution_count": 2,
   "metadata": {},
   "outputs": [
    {
     "data": {
      "text/plain": [
       "'\"Hi\" means greeting.'"
      ]
     },
     "execution_count": 2,
     "metadata": {},
     "output_type": "execute_result"
    }
   ],
   "source": [
    "'\"Hi\" means greeting.'"
   ]
  },
  {
   "cell_type": "code",
   "execution_count": 6,
   "metadata": {},
   "outputs": [],
   "source": [
    "poem = '''I do not like three, Doctor Fell.\n",
    "The reason why, I cannot tell.\n",
    "But this I know, an dknow full well.'''"
   ]
  },
  {
   "cell_type": "code",
   "execution_count": 7,
   "metadata": {},
   "outputs": [
    {
     "data": {
      "text/plain": [
       "'I do not like three, Doctor Fell.\\nThe reason why, I cannot tell.\\nBut this I know, an dknow full well.'"
      ]
     },
     "execution_count": 7,
     "metadata": {},
     "output_type": "execute_result"
    }
   ],
   "source": [
    "poem"
   ]
  },
  {
   "cell_type": "code",
   "execution_count": 8,
   "metadata": {},
   "outputs": [
    {
     "name": "stdout",
     "output_type": "stream",
     "text": [
      "I do not like three, Doctor Fell.\n",
      "The reason why, I cannot tell.\n",
      "But this I know, an dknow full well.\n"
     ]
    }
   ],
   "source": [
    "print(poem)"
   ]
  },
  {
   "cell_type": "code",
   "execution_count": 11,
   "metadata": {},
   "outputs": [
    {
     "name": "stdout",
     "output_type": "stream",
     "text": [
      "Na Na Na Na Ya\n"
     ]
    }
   ],
   "source": [
    "start = 'Na '*4 + 'Ya'\n",
    "print(start)"
   ]
  },
  {
   "cell_type": "code",
   "execution_count": 13,
   "metadata": {},
   "outputs": [
    {
     "name": "stdout",
     "output_type": "stream",
     "text": [
      "A marmoset goes into a bar...\n",
      "A duck goes into a bar...\n"
     ]
    }
   ],
   "source": [
    "setup = 'A duck goes into a bar...'\n",
    "print(setup.replace('duck', 'marmoset'))\n",
    "print(setup)"
   ]
  },
  {
   "cell_type": "code",
   "execution_count": 17,
   "metadata": {},
   "outputs": [
    {
     "name": "stdout",
     "output_type": "stream",
     "text": [
      "Q: We don't serve strings around here. Are you a string?\n",
      "A: No, I'm a frayed knot.\n"
     ]
    }
   ],
   "source": [
    "questions = [\n",
    "    \"We don't serve strings around here. Are you a string?\",\n",
    "    \"What is said on Father's Day in the forest?\",\n",
    "    \"What makes the sound 'Sis! Boom! Bah!'?\"\n",
    "]\n",
    "answers = [\n",
    "    \"Anexploding sheep.\",\n",
    "    \"No, I'm a frayed knot.\",\n",
    "    \"'Pop!' goes the wasel.\"\n",
    "]\n",
    "print(f\"Q: {questions[0]}\\nA: {answers[1]}\")"
   ]
  }
 ],
 "metadata": {
  "kernelspec": {
   "display_name": "Python 3",
   "language": "python",
   "name": "python3"
  },
  "language_info": {
   "codemirror_mode": {
    "name": "ipython",
    "version": 3
   },
   "file_extension": ".py",
   "mimetype": "text/x-python",
   "name": "python",
   "nbconvert_exporter": "python",
   "pygments_lexer": "ipython3",
   "version": "3.7.4"
  }
 },
 "nbformat": 4,
 "nbformat_minor": 2
}
