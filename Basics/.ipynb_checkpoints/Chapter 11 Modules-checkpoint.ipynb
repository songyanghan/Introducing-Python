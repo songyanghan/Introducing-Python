{
 "cells": [
  {
   "cell_type": "code",
   "execution_count": 1,
   "metadata": {},
   "outputs": [
    {
     "name": "stdout",
     "output_type": "stream",
     "text": [
      "/Users/train/Documents/Python/IntroducingPython\n",
      "/Users/train/opt/anaconda3/lib/python37.zip\n",
      "/Users/train/opt/anaconda3/lib/python3.7\n",
      "/Users/train/opt/anaconda3/lib/python3.7/lib-dynload\n",
      "\n",
      "/Users/train/opt/anaconda3/lib/python3.7/site-packages\n",
      "/Users/train/opt/anaconda3/lib/python3.7/site-packages/aeosa\n",
      "/Users/train/opt/anaconda3/lib/python3.7/site-packages/IPython/extensions\n",
      "/Users/train/.ipython\n"
     ]
    }
   ],
   "source": [
    "import sys\n",
    "for place in sys.path:\n",
    "    print(place)"
   ]
  },
  {
   "cell_type": "code",
   "execution_count": 2,
   "metadata": {},
   "outputs": [
    {
     "name": "stdout",
     "output_type": "stream",
     "text": [
      "0\n"
     ]
    },
    {
     "data": {
      "text/plain": [
       "int"
      ]
     },
     "execution_count": 2,
     "metadata": {},
     "output_type": "execute_result"
    }
   ],
   "source": [
    "a = int()\n",
    "print(a)\n",
    "type(a)"
   ]
  },
  {
   "cell_type": "code",
   "execution_count": 3,
   "metadata": {},
   "outputs": [
    {
     "name": "stdout",
     "output_type": "stream",
     "text": [
      "Open 9-5 daily\n"
     ]
    }
   ],
   "source": [
    "#11.1\n",
    "import zoo\n",
    "zoo.hours()"
   ]
  },
  {
   "cell_type": "code",
   "execution_count": 4,
   "metadata": {},
   "outputs": [
    {
     "name": "stdout",
     "output_type": "stream",
     "text": [
      "Open 9-5 daily\n"
     ]
    }
   ],
   "source": [
    "#11.2\n",
    "import zoo as menagerie\n",
    "menagerie.hours()"
   ]
  },
  {
   "cell_type": "code",
   "execution_count": 6,
   "metadata": {},
   "outputs": [
    {
     "name": "stdout",
     "output_type": "stream",
     "text": [
      "Open 9-5 daily\n"
     ]
    }
   ],
   "source": [
    "#11.3\n",
    "from zoo import hours \n",
    "hours()"
   ]
  },
  {
   "cell_type": "code",
   "execution_count": 7,
   "metadata": {},
   "outputs": [
    {
     "name": "stdout",
     "output_type": "stream",
     "text": [
      "Open 9-5 daily\n"
     ]
    }
   ],
   "source": [
    "#11.4\n",
    "from zoo import hours as info\n",
    "info()"
   ]
  },
  {
   "cell_type": "code",
   "execution_count": 48,
   "metadata": {},
   "outputs": [
    {
     "data": {
      "text/plain": [
       "442368"
      ]
     },
     "execution_count": 48,
     "metadata": {},
     "output_type": "execute_result"
    }
   ],
   "source": [
    "class Solution:\n",
    "    def numDecodings(self, s: str) -> int: \n",
    "        if len(s) == 0:\n",
    "            return 1\n",
    "        if len(s) == 1:\n",
    "            if 1 <= int(s) <= 26:\n",
    "                return 1\n",
    "            else: \n",
    "                return 0\n",
    "        if s[0] == '0':\n",
    "            return 0\n",
    "        elif 1 <= int(s[0:2]) <= 26:\n",
    "            return self.numDecodings(s[1:]) + self.numDecodings(s[2:])\n",
    "        else:\n",
    "            return self.numDecodings(s[1:])\n",
    "        \n",
    "test = Solution()\n",
    "test.numDecodings(\"9317949759856497357254398763219839323723136763131916377913495416692666785978758414629119614215967159\")"
   ]
  },
  {
   "cell_type": "code",
   "execution_count": 42,
   "metadata": {},
   "outputs": [
    {
     "data": {
      "text/plain": [
       "tuple"
      ]
     },
     "execution_count": 42,
     "metadata": {},
     "output_type": "execute_result"
    }
   ],
   "source": [
    "temp = tuple(map(str, range(1, 27)))\n",
    "type(temp)\n"
   ]
  },
  {
   "cell_type": "code",
   "execution_count": 43,
   "metadata": {},
   "outputs": [
    {
     "name": "stdout",
     "output_type": "stream",
     "text": [
      "('1', '2', '3', '4', '5', '6', '7', '8', '9', '10', '11', '12', '13', '14', '15', '16', '17', '18', '19', '20', '21', '22', '23', '24', '25', '26')\n"
     ]
    }
   ],
   "source": [
    "print(temp)"
   ]
  },
  {
   "cell_type": "code",
   "execution_count": 47,
   "metadata": {},
   "outputs": [
    {
     "name": "stdout",
     "output_type": "stream",
     "text": [
      "{'1': 1, '2': 1, '3': 1, '4': 1, '5': 1, '6': 1, '7': 1, '8': 1, '9': 1, '10': 1, '11': 1, '12': 1, '13': 1, '14': 1, '15': 1, '16': 1, '17': 1, '18': 1, '19': 1, '20': 1, '21': 1, '22': 1, '23': 1, '24': 1, '25': 1, '26': 1}\n"
     ]
    }
   ],
   "source": [
    "dic = dict(zip(temp, 26 * [1]))\n",
    "print(dic)"
   ]
  },
  {
   "cell_type": "code",
   "execution_count": 14,
   "metadata": {},
   "outputs": [
    {
     "name": "stdout",
     "output_type": "stream",
     "text": [
      "0 2\n",
      "found = 1\n"
     ]
    },
    {
     "data": {
      "text/plain": [
       "(1, 2)"
      ]
     },
     "execution_count": 14,
     "metadata": {},
     "output_type": "execute_result"
    }
   ],
   "source": [
    "class Solution:\n",
    "    def twoSum(self, numbers, target: int):\n",
    "        for i, num in enumerate(numbers):\n",
    "            print(i, num)\n",
    "            found = self.Search(numbers[i+1:], target - num)\n",
    "            print(f'found = {found}')\n",
    "            if found >= 0:\n",
    "                return i + 1, found + i + 1 + 1\n",
    "                \n",
    "    def Search(self, numbers, target):\n",
    "        low = 0 \n",
    "        high = len(numbers) - 1\n",
    "        while(low <= high):\n",
    "            mid = (low + high) // 2\n",
    "            if numbers[mid] == target:\n",
    "                return mid\n",
    "            elif numbers[mid] < target:\n",
    "                low = mid + 1\n",
    "            else:\n",
    "                high = mid - 1\n",
    "        return -1\n",
    "                \n",
    "Test = Solution()\n",
    "Test.twoSum([2, 3, 4], 6)"
   ]
  },
  {
   "cell_type": "code",
   "execution_count": 13,
   "metadata": {},
   "outputs": [
    {
     "data": {
      "text/plain": [
       "1"
      ]
     },
     "execution_count": 13,
     "metadata": {},
     "output_type": "execute_result"
    }
   ],
   "source": [
    "Test.Search([3, 4], 4)"
   ]
  },
  {
   "cell_type": "code",
   "execution_count": 12,
   "metadata": {},
   "outputs": [
    {
     "data": {
      "text/plain": [
       "21"
      ]
     },
     "execution_count": 12,
     "metadata": {},
     "output_type": "execute_result"
    }
   ],
   "source": [
    "def calculate(s):\n",
    "    addition = 0\n",
    "    multi = []\n",
    "    num = '-1'\n",
    "    for i in range(len(s)):\n",
    "        # print(s[i])\n",
    "        if s[i].isdigit():\n",
    "            num = int(s[i]) # a number waiting for addition\n",
    "            continue\n",
    "        if s[i] == '+':\n",
    "            if multi:\n",
    "                multi_result = 1\n",
    "                for multi_num in multi:\n",
    "                    multi_result *= multi_num\n",
    "                addition += multi_result * num\n",
    "                multi = []\n",
    "            else:\n",
    "                addition += num\n",
    "                num = '-1'\n",
    "            \n",
    "        if s[i] == '*':\n",
    "            multi.append(num)\n",
    "            num = '-1'\n",
    "            \n",
    "    if multi:\n",
    "        multi_result = 1\n",
    "        for multi_num in multi:\n",
    "            multi_result *= multi_num\n",
    "        addition += multi_result * num\n",
    "    elif num != '-1':\n",
    "        addition += num\n",
    "            \n",
    "    return addition \n",
    "\n",
    "calculate('7 * 3')"
   ]
  },
  {
   "cell_type": "code",
   "execution_count": null,
   "metadata": {},
   "outputs": [],
   "source": []
  },
  {
   "cell_type": "code",
   "execution_count": null,
   "metadata": {},
   "outputs": [],
   "source": []
  },
  {
   "cell_type": "code",
   "execution_count": null,
   "metadata": {},
   "outputs": [],
   "source": []
  },
  {
   "cell_type": "code",
   "execution_count": null,
   "metadata": {},
   "outputs": [],
   "source": []
  },
  {
   "cell_type": "code",
   "execution_count": null,
   "metadata": {},
   "outputs": [],
   "source": []
  },
  {
   "cell_type": "code",
   "execution_count": 15,
   "metadata": {
    "jupyter": {
     "source_hidden": true
    }
   },
   "outputs": [
    {
     "data": {
      "text/plain": [
       "7"
      ]
     },
     "execution_count": 15,
     "metadata": {},
     "output_type": "execute_result"
    }
   ],
   "source": [
    "class Solution:\n",
    "    def singleNumber(self, nums) -> int:\n",
    "        hash_table = {}\n",
    "        for i in nums:\n",
    "            try:\n",
    "                hash_table.pop(i)\n",
    "            except:\n",
    "                hash_table[i] = 1\n",
    "        return hash_table.popitem()[0]\n",
    "                \n",
    "Test = Solution()\n",
    "Test.singleNumber([2, 3, 7, 3, 2])"
   ]
  }
 ],
 "metadata": {
  "kernelspec": {
   "display_name": "Python 3",
   "language": "python",
   "name": "python3"
  },
  "language_info": {
   "codemirror_mode": {
    "name": "ipython",
    "version": 3
   },
   "file_extension": ".py",
   "mimetype": "text/x-python",
   "name": "python",
   "nbconvert_exporter": "python",
   "pygments_lexer": "ipython3",
   "version": "3.7.4"
  }
 },
 "nbformat": 4,
 "nbformat_minor": 4
}
