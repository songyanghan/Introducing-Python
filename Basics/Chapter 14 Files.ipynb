{
 "cells": [
  {
   "cell_type": "code",
   "execution_count": 6,
   "metadata": {},
   "outputs": [],
   "source": [
    "fout = open('oops.txt', 'wt')\n",
    "print('Oops, I created a file.', file = fout)\n",
    "fout.close()"
   ]
  },
  {
   "cell_type": "code",
   "execution_count": 7,
   "metadata": {},
   "outputs": [],
   "source": [
    "fout = open('oops.txt', 'a')\n",
    "fout.write('Oops, I append a new sentence here.')\n",
    "print('Let me try something.', file = fout)\n",
    "fout.write('It is just a test.')\n",
    "fout.close()"
   ]
  },
  {
   "cell_type": "code",
   "execution_count": 24,
   "metadata": {},
   "outputs": [
    {
     "name": "stdout",
     "output_type": "stream",
     "text": [
      "Oops, I created a file.\n",
      "Oops, I append a new sentence here.Let me try something.\n",
      "It is just a test.\n"
     ]
    }
   ],
   "source": [
    "fin = open('oops.txt', 'r')\n",
    "poem = fin.read()\n",
    "print(poem)"
   ]
  },
  {
   "cell_type": "code",
   "execution_count": 12,
   "metadata": {},
   "outputs": [],
   "source": [
    "len(poem)\n",
    "fin.close()"
   ]
  },
  {
   "cell_type": "code",
   "execution_count": 19,
   "metadata": {},
   "outputs": [
    {
     "name": "stdout",
     "output_type": "stream",
     "text": [
      "2\n",
      "Oops, I created a file.\n",
      "\n",
      "3\n",
      "Oops, I append a new sentence here.Let me try something.\n",
      "\n",
      "4\n",
      "It is just a test.\n"
     ]
    }
   ],
   "source": [
    "fin = open('oops.txt', 'r')\n",
    "i = 1\n",
    "while True:\n",
    "    line = fin.readline()\n",
    "    if not line:\n",
    "        break\n",
    "    i += 1\n",
    "    print(f'{i}')\n",
    "    print(line)\n",
    "fin.close()"
   ]
  },
  {
   "cell_type": "code",
   "execution_count": 20,
   "metadata": {},
   "outputs": [
    {
     "name": "stdout",
     "output_type": "stream",
     "text": [
      "Oops, I created a file.\n",
      "\n",
      "Oops, I append a new sentence here.Let me try something.\n",
      "\n",
      "It is just a test.\n"
     ]
    }
   ],
   "source": [
    "fin = open('oops.txt', 'r')\n",
    "for line in fin:\n",
    "    print(line)\n",
    "fin.close()"
   ]
  },
  {
   "cell_type": "code",
   "execution_count": 21,
   "metadata": {},
   "outputs": [
    {
     "data": {
      "text/plain": [
       "'/Users/train/Documents/Python/IntroducingPython/oops.txt'"
      ]
     },
     "execution_count": 21,
     "metadata": {},
     "output_type": "execute_result"
    }
   ],
   "source": [
    "import os\n",
    "os.path.abspath('oops.txt')"
   ]
  },
  {
   "cell_type": "code",
   "execution_count": 22,
   "metadata": {},
   "outputs": [
    {
     "data": {
      "text/plain": [
       "['Chapter 10 Objects and Classes.ipynb',\n",
       " 'Chapter 14 Files.ipynb',\n",
       " 'Chapter 11 Modules.ipynb',\n",
       " 'Chapter 7 Tuples and Lists.ipynb',\n",
       " 'zoo.py',\n",
       " 'oops.txt',\n",
       " '__pycache__',\n",
       " 'Chapter 8 Dictionaries and Sets.ipynb',\n",
       " 'Chapter 5 Text Strings.ipynb',\n",
       " 'Chapter 12 Mangle Data.ipynb',\n",
       " '.ipynb_checkpoints',\n",
       " 'Chapter 1.ipynb',\n",
       " 'Chapter 9 Functions.ipynb',\n",
       " 'Chapter 6 Loop .ipynb']"
      ]
     },
     "execution_count": 22,
     "metadata": {},
     "output_type": "execute_result"
    }
   ],
   "source": [
    "# 14.1\n",
    "os.listdir('.')"
   ]
  },
  {
   "cell_type": "code",
   "execution_count": 23,
   "metadata": {},
   "outputs": [
    {
     "data": {
      "text/plain": [
       "['~$Python_summary.xlsx',\n",
       " 'Week3_Reinforcement_Learning copy',\n",
       " '.DS_Store',\n",
       " 'DeepLearning_AI',\n",
       " 'AutoCar',\n",
       " 'Wanmen',\n",
       " 'Python_summary.xlsx',\n",
       " '.ipynb_checkpoints',\n",
       " 'BGP',\n",
       " 'Test.ipynb',\n",
       " 'IntroducingPython']"
      ]
     },
     "execution_count": 23,
     "metadata": {},
     "output_type": "execute_result"
    }
   ],
   "source": [
    "# 14.2\n",
    "os.listdir('..')"
   ]
  },
  {
   "cell_type": "code",
   "execution_count": 26,
   "metadata": {},
   "outputs": [],
   "source": [
    "# 14.3\n",
    "test1 = 'This is a test of the emergency text system'\n",
    "fout = open('test.txt', 'w')\n",
    "fout.write(test1)\n",
    "fout.close()"
   ]
  },
  {
   "cell_type": "code",
   "execution_count": 27,
   "metadata": {},
   "outputs": [
    {
     "name": "stdout",
     "output_type": "stream",
     "text": [
      "This is a test of the emergency text system\n"
     ]
    }
   ],
   "source": [
    "# 14.4\n",
    "with open('test.txt', 'r') as fin:\n",
    "    test2 = fin.read()\n",
    "print(test2)"
   ]
  },
  {
   "cell_type": "code",
   "execution_count": null,
   "metadata": {},
   "outputs": [],
   "source": []
  },
  {
   "cell_type": "code",
   "execution_count": null,
   "metadata": {},
   "outputs": [],
   "source": []
  },
  {
   "cell_type": "code",
   "execution_count": null,
   "metadata": {},
   "outputs": [],
   "source": []
  },
  {
   "cell_type": "code",
   "execution_count": null,
   "metadata": {},
   "outputs": [],
   "source": []
  },
  {
   "cell_type": "code",
   "execution_count": null,
   "metadata": {},
   "outputs": [],
   "source": []
  },
  {
   "cell_type": "code",
   "execution_count": null,
   "metadata": {},
   "outputs": [],
   "source": []
  }
 ],
 "metadata": {
  "kernelspec": {
   "display_name": "Python 3",
   "language": "python",
   "name": "python3"
  },
  "language_info": {
   "codemirror_mode": {
    "name": "ipython",
    "version": 3
   },
   "file_extension": ".py",
   "mimetype": "text/x-python",
   "name": "python",
   "nbconvert_exporter": "python",
   "pygments_lexer": "ipython3",
   "version": "3.7.4"
  }
 },
 "nbformat": 4,
 "nbformat_minor": 4
}
