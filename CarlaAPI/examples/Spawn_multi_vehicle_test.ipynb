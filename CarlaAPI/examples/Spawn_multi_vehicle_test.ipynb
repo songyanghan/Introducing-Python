{
 "cells": [
  {
   "cell_type": "code",
   "execution_count": 1,
   "metadata": {},
   "outputs": [],
   "source": [
    "import glob\n",
    "import os\n",
    "import sys"
   ]
  },
  {
   "cell_type": "code",
   "execution_count": 2,
   "metadata": {},
   "outputs": [],
   "source": [
    "try:\n",
    "    sys.path.append(glob.glob('/opt/carla-simulator/PythonAPI/carla/dist/carla-*3.7-%s.egg' % (\n",
    "        'win-amd64' if os.name == 'nt' else 'linux-x86_64'))[0])\n",
    "except IndexError:\n",
    "    pass"
   ]
  },
  {
   "cell_type": "code",
   "execution_count": 3,
   "metadata": {},
   "outputs": [],
   "source": [
    "import carla"
   ]
  },
  {
   "cell_type": "code",
   "execution_count": 4,
   "metadata": {},
   "outputs": [],
   "source": [
    "import random\n",
    "import time\n",
    "import numpy as np\n",
    "import cv2"
   ]
  },
  {
   "cell_type": "code",
   "execution_count": 5,
   "metadata": {},
   "outputs": [],
   "source": [
    "IM_WIDTH = 640\n",
    "IM_HEIGHT = 480\n",
    "actor_list = []"
   ]
  },
  {
   "cell_type": "code",
   "execution_count": 6,
   "metadata": {},
   "outputs": [],
   "source": [
    "def process_img(image):\n",
    "    i = np.array(image.raw_data)\n",
    "    i2 = i.reshape((IM_HEIGHT, IM_WIDTH, 4))\n",
    "    i3 = i2[:, :, :3]\n",
    "#     cv2.imshow(\"image\", i3)\n",
    "#     cv2.waitKey(1)  \n",
    "    return i3/255.0"
   ]
  },
  {
   "cell_type": "code",
   "execution_count": 21,
   "metadata": {},
   "outputs": [
    {
     "name": "stdout",
     "output_type": "stream",
     "text": [
      "ActorBlueprint(id=vehicle.tesla.model3,tags=[model3, vehicle, tesla])\n"
     ]
    }
   ],
   "source": [
    "client = carla.Client(\"localhost\", 2000)\n",
    "client.set_timeout(2.0)\n",
    "world = client.get_world()\n",
    "blueprint_library = world.get_blueprint_library()\n",
    "\n",
    "bp = blueprint_library.filter(\"model3\")[0]\n",
    "print(bp)\n",
    "\n",
    "spawn_point = random.choice(world.get_map().get_spawn_points())\n",
    "\n",
    "vehicle = world.spawn_actor(bp, spawn_point)\n",
    "#     vehicle.set_autopilot(True)\n",
    "vehicle.apply_control(carla.VehicleControl(throttle=1.0, steer=0.0))\n",
    "actor_list.append(vehicle)\n",
    "\n",
    "cam_bp = blueprint_library.find(\"sensor.camera.rgb\")\n",
    "cam_bp.set_attribute(\"image_size_x\", f\"{IM_WIDTH}\")\n",
    "cam_bp.set_attribute(\"image_size_y\", f\"{IM_HEIGHT}\")\n",
    "cam_bp.set_attribute(\"fov\", \"110\")\n",
    "\n",
    "spawn_point = carla.Transform(carla.Location(x=2.5, z=0.7))\n",
    "\n",
    "sensor = world.spawn_actor(cam_bp, spawn_point, attach_to=vehicle)\n",
    "actor_list.append(sensor)\n",
    "sensor.listen(lambda data: process_img(data))\n",
    "\n",
    "vehicle.apply_control(carla.VehicleControl(throttle=0.0, brake=0.0))\n",
    "time.sleep(4)"
   ]
  },
  {
   "cell_type": "code",
   "execution_count": 22,
   "metadata": {},
   "outputs": [
    {
     "name": "stdout",
     "output_type": "stream",
     "text": [
      "[Actor(id=208, type=vehicle.tesla.model3)]\n"
     ]
    }
   ],
   "source": [
    "print(world.get_actors().filter(\"*vehicle*\"))"
   ]
  },
  {
   "cell_type": "code",
   "execution_count": 36,
   "metadata": {},
   "outputs": [],
   "source": [
    "for actor in world.get_actors().filter(\"*vehicle*\"):\n",
    "    actor.destroy()"
   ]
  },
  {
   "cell_type": "code",
   "execution_count": 24,
   "metadata": {},
   "outputs": [],
   "source": [
    "map = world.get_map()"
   ]
  },
  {
   "cell_type": "code",
   "execution_count": 25,
   "metadata": {},
   "outputs": [],
   "source": [
    "num_CAVs = 5"
   ]
  },
  {
   "cell_type": "code",
   "execution_count": 26,
   "metadata": {},
   "outputs": [],
   "source": [
    "spawn_points = []\n",
    "if map.name == 'Town05':\n",
    "    # These are three segments of straight road that I thought would be great spawn zones\n",
    "    for x in np.linspace(-134, 100, 4):\n",
    "        for y in (201, 205, 209):\n",
    "            transform = map.get_waypoint(carla.Location(x=x, y=y)).transform\n",
    "            transform.location.z = transform.location.z + 2.0\n",
    "            spawn_points.append(transform)\n",
    "\n",
    "    for y in np.linspace(95, -87, 3):\n",
    "        for x in (211, 208, 204):\n",
    "            transform = map.get_waypoint(carla.Location(x=x, y=y)).transform\n",
    "            transform.location.z = transform.location.z + 2.0\n",
    "            spawn_points.append(transform)\n",
    "\n",
    "    for x in np.linspace(-134, 80, 4):\n",
    "        for y in (-200, -204, -208):\n",
    "            transform = map.get_waypoint(carla.Location(x=x, y=y)).transform\n",
    "            transform.location.z = transform.location.z + 2.0\n",
    "            spawn_points.append(transform)\n",
    "else:\n",
    "    spawn_points = map.get_spawn_points()\n",
    "spawn_points = random.sample(spawn_points, num_CAVs)"
   ]
  },
  {
   "cell_type": "code",
   "execution_count": 33,
   "metadata": {},
   "outputs": [],
   "source": [
    "for i in range(num_CAVs):\n",
    "    transform = spawn_points[i]\n",
    "    vehicle = world.spawn_actor(bp, transform)\n",
    "    vehicle.apply_control(carla.VehicleControl(throttle=0.0, brake=0.0))\n",
    "    actor_list.append(vehicle)\n",
    "\n",
    "    # add rgba camera for this vehicle\n",
    "    transform = carla.Transform(carla.Location(x=2.5, z=0.7))\n",
    "    sensor = world.spawn_actor(cam_bp, transform, attach_to=vehicle)\n",
    "    actor_list.append(sensor)"
   ]
  },
  {
   "cell_type": "code",
   "execution_count": 28,
   "metadata": {},
   "outputs": [
    {
     "name": "stdout",
     "output_type": "stream",
     "text": [
      "[Actor(id=210, type=vehicle.tesla.model3), Actor(id=212, type=vehicle.tesla.model3), Actor(id=214, type=vehicle.tesla.model3), Actor(id=216, type=vehicle.tesla.model3), Actor(id=218, type=vehicle.tesla.model3)]\n"
     ]
    }
   ],
   "source": [
    "print(world.get_actors().filter(\"*vehicle*\"))"
   ]
  },
  {
   "cell_type": "code",
   "execution_count": 31,
   "metadata": {},
   "outputs": [
    {
     "name": "stdout",
     "output_type": "stream",
     "text": [
      "[Actor(id=201, type=sensor.camera.rgb), Actor(id=203, type=sensor.camera.rgb), Actor(id=205, type=sensor.camera.rgb), Actor(id=207, type=sensor.camera.rgb), Actor(id=209, type=sensor.camera.rgb), Actor(id=211, type=sensor.camera.rgb), Actor(id=213, type=sensor.camera.rgb), Actor(id=215, type=sensor.camera.rgb), Actor(id=217, type=sensor.camera.rgb), Actor(id=219, type=sensor.camera.rgb)]\n"
     ]
    }
   ],
   "source": [
    "print(world.get_actors().filter(\"*sensor*\"))"
   ]
  },
  {
   "cell_type": "code",
   "execution_count": null,
   "metadata": {},
   "outputs": [],
   "source": []
  },
  {
   "cell_type": "code",
   "execution_count": null,
   "metadata": {},
   "outputs": [],
   "source": []
  }
 ],
 "metadata": {
  "kernelspec": {
   "display_name": "Python 3",
   "language": "python",
   "name": "python3"
  },
  "language_info": {
   "codemirror_mode": {
    "name": "ipython",
    "version": 3
   },
   "file_extension": ".py",
   "mimetype": "text/x-python",
   "name": "python",
   "nbconvert_exporter": "python",
   "pygments_lexer": "ipython3",
   "version": "3.8.3"
  }
 },
 "nbformat": 4,
 "nbformat_minor": 4
}
