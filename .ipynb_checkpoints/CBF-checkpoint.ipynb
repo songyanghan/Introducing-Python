{
 "cells": [
  {
   "cell_type": "code",
   "execution_count": 1,
   "metadata": {},
   "outputs": [],
   "source": [
    "import numpy as np\n",
    "from cvxopt import matrix\n",
    "from cvxopt import solvers\n",
    "\n",
    "#Build barrier function model\n",
    "def build_barrier(self):\n",
    "    N = self.action_size\n",
    "    #self.P = matrix(np.eye(N), tc='d')\n",
    "    self.P = matrix(np.diag([1., 1e20]), tc='d')\n",
    "    self.q = matrix(np.zeros(N+1))\n",
    "    self.H1 = np.array([0, 0, 0, 0, 0, 0, 1, 0.002, 0, -1, -0.002, 0, 0, 0, 0])\n",
    "    self.H2 = np.array([0, 0, 0, 0, 0, 0, 1, 0.002, 0, -1, 0.002, 0, 0, 0, 0])\n",
    "    self.H3 = np.array([0, 0, 0, 0, 0, 0, 1, -0.002, 0, -1, -0.002, 0, 0, 0, 0])\n",
    "    self.H4 = np.array([0, 0, 0, 0, 0, 0, 1, -0.002, 0, -1, 0.002, 0, 0, 0, 0])\n",
    "    self.H5 = np.array([0, 0, 0, 0, 0, 0, 0, 0, 0, 1, 0.002, 0, -1, 0.002, 0])\n",
    "    self.H6 = np.array([0, 0, 0, 0, 0, 0, 0, 0, 0, 1, 0.002, 0, -1, -0.002, 0])\n",
    "    self.H7 = np.array([0, 0, 0, 0, 0, 0, 0, 0, 0, 1, -0.002, 0, -1, 0.002, 0])\n",
    "    self.H8 = np.array([0, 0, 0, 0, 0, 0, 0, 0, 0, 1, -0.002, 0, -1, -0.002, 0])\n",
    "    self.F = -2.\n",
    "\n",
    "\n",
    "#Get compensatory action based on satisfaction of barrier function\n",
    "def control_barrier(self, obs, u_rl, f, g, x, std):\n",
    "    #Define gamma for the barrier function\n",
    "    gamma_b = 0.4\n",
    "    \n",
    "    #Set up Quadratic Program to satisfy the Control Barrier Function\n",
    "    kd = 1.0\n",
    "\n",
    "    u_rl = np.squeeze(u_rl)\n",
    "    #Set up Quadratic Program to satisfy CBF\n",
    "    G = np.array([[-np.dot(self.H1,g), -np.dot(self.H2,g), -np.dot(self.H3,g), -np.dot(self.H4,g), -np.dot(self.H5,g), \n",
    "                   -np.dot(self.H6,g), -np.dot(self.H7,g), -np.dot(self.H8,g), 1, -1] , [-1, -1, -1, -1, -1, -1, -1, -1, 0, 0]])\n",
    "    G = np.transpose(G)\n",
    "    \n",
    "    h = np.array([gamma_b*self.F + np.dot(self.H1,f) + np.dot(self.H1,g)*u_rl - (1-gamma_b)*np.dot(self.H1,x) - kd*np.dot(np.abs(self.H1),std),\n",
    "                  gamma_b*self.F + np.dot(self.H2,f) + np.dot(self.H2,g)*u_rl - (1-gamma_b)*np.dot(self.H2,x) - kd*np.dot(np.abs(self.H2),std),\n",
    "                  gamma_b*self.F + np.dot(self.H3,f) + np.dot(self.H3,g)*u_rl - (1-gamma_b)*np.dot(self.H3,x) - kd*np.dot(np.abs(self.H3),std),\n",
    "                  gamma_b*self.F + np.dot(self.H4,f) + np.dot(self.H4,g)*u_rl - (1-gamma_b)*np.dot(self.H4,x) - kd*np.dot(np.abs(self.H4),std),\n",
    "                  gamma_b*self.F + np.dot(self.H5,f) + np.dot(self.H5,g)*u_rl - (1-gamma_b)*np.dot(self.H5,x) - kd*np.dot(np.abs(self.H5),std),\n",
    "                  gamma_b*self.F + np.dot(self.H6,f) + np.dot(self.H6,g)*u_rl - (1-gamma_b)*np.dot(self.H6,x) - kd*np.dot(np.abs(self.H6),std),\n",
    "                  gamma_b*self.F + np.dot(self.H7,f) + np.dot(self.H7,g)*u_rl - (1-gamma_b)*np.dot(self.H7,x) - kd*np.dot(np.abs(self.H7),std),\n",
    "                  gamma_b*self.F + np.dot(self.H8,f) + np.dot(self.H8,g)*u_rl - (1-gamma_b)*np.dot(self.H8,x) - kd*np.dot(np.abs(self.H8),std),\n",
    "                  -u_rl + self.torque_bound,\n",
    "                  u_rl + self.torque_bound])\n",
    "    \n",
    "\n",
    "    h = np.squeeze(h).astype(np.double)\n",
    "    \n",
    "    #Convert numpy arrays to cvx matrices to set up QP\n",
    "    G = matrix(G,tc='d')\n",
    "    h = matrix(h,tc='d')\n",
    "\n",
    "    #Solve QP\n",
    "    solvers.options['show_progress'] = False\n",
    "    sol = solvers.qp(self.P, self.q, G, h)\n",
    "    u_bar = sol['x']\n",
    "\n",
    "    #Torque bound violation\n",
    "    if (np.add(np.squeeze(u_rl), np.squeeze(u_bar[0])) - 0.001 >= self.torque_bound):\n",
    "        u_bar[0] = self.torque_bound - u_rl\n",
    "        print(\"Error in QP\")\n",
    "    elif (np.add(np.squeeze(u_rl), np.squeeze(u_bar[0])) + 0.001 <= -self.torque_bound):\n",
    "        u_bar[0] = -self.torque_bound - u_rl\n",
    "        print(\"Error in QP\")\n",
    "    else:\n",
    "        pass\n",
    "\n",
    "    '''\n",
    "    #Safety violation\n",
    "    if (u_bar[1] > 0.001):\n",
    "        print('CBF Violation of: ' + str(u_bar[1]))\n",
    "    '''\n",
    "    \n",
    "    return np.expand_dims(np.array(u_bar[0]), 0)"
   ]
  },
  {
   "cell_type": "code",
   "execution_count": 2,
   "metadata": {},
   "outputs": [
    {
     "name": "stdout",
     "output_type": "stream",
     "text": [
      "[ 1.00e+00  0.00e+00]\n",
      "[ 0.00e+00  1.00e+20]\n",
      "\n"
     ]
    }
   ],
   "source": [
    "A = matrix(np.diag([1., 1e20]), tc='d')\n",
    "print(A)"
   ]
  },
  {
   "cell_type": "code",
   "execution_count": 3,
   "metadata": {},
   "outputs": [
    {
     "name": "stdout",
     "output_type": "stream",
     "text": [
      "1\n"
     ]
    }
   ],
   "source": [
    "a = 1\n",
    "u_rl = np.squeeze(a)\n",
    "print(u_rl)"
   ]
  },
  {
   "cell_type": "code",
   "execution_count": 4,
   "metadata": {},
   "outputs": [
    {
     "data": {
      "text/plain": [
       "()"
      ]
     },
     "execution_count": 4,
     "metadata": {},
     "output_type": "execute_result"
    }
   ],
   "source": [
    "u_rl.shape"
   ]
  },
  {
   "cell_type": "code",
   "execution_count": 5,
   "metadata": {},
   "outputs": [],
   "source": [
    "#Actuated dynamics\n",
    "dt = 0.05\n",
    "g = np.zeros((5,3))\n",
    "g[3,0] = 0.5*dt**2\n",
    "g[3,1] = dt\n",
    "g[3,2] = 0"
   ]
  },
  {
   "cell_type": "code",
   "execution_count": 6,
   "metadata": {},
   "outputs": [
    {
     "data": {
      "text/plain": [
       "array([[0.     , 0.     , 0.     ],\n",
       "       [0.     , 0.     , 0.     ],\n",
       "       [0.     , 0.     , 0.     ],\n",
       "       [0.00125, 0.05   , 0.     ],\n",
       "       [0.     , 0.     , 0.     ]])"
      ]
     },
     "execution_count": 6,
     "metadata": {},
     "output_type": "execute_result"
    }
   ],
   "source": [
    "g"
   ]
  },
  {
   "cell_type": "code",
   "execution_count": 7,
   "metadata": {},
   "outputs": [
    {
     "data": {
      "text/plain": [
       "(15,)"
      ]
     },
     "execution_count": 7,
     "metadata": {},
     "output_type": "execute_result"
    }
   ],
   "source": [
    "np.ravel(g).shape"
   ]
  },
  {
   "cell_type": "code",
   "execution_count": null,
   "metadata": {},
   "outputs": [],
   "source": []
  },
  {
   "cell_type": "code",
   "execution_count": null,
   "metadata": {},
   "outputs": [],
   "source": []
  },
  {
   "cell_type": "code",
   "execution_count": null,
   "metadata": {},
   "outputs": [],
   "source": []
  }
 ],
 "metadata": {
  "kernelspec": {
   "display_name": "Python 3.7 (XPython)",
   "language": "python",
   "name": "xpython"
  },
  "language_info": {
   "file_extension": ".py",
   "mimetype": "text/x-python",
   "name": "python",
   "version": "3.7.8"
  }
 },
 "nbformat": 4,
 "nbformat_minor": 4
}
