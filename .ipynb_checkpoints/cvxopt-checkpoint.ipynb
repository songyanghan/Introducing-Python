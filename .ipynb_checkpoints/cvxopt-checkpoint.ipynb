{
 "cells": [
  {
   "cell_type": "code",
   "execution_count": 31,
   "metadata": {},
   "outputs": [],
   "source": [
    "from cvxopt import matrix, solvers\n",
    "from cvxopt import spmatrix, sparse, spdiag\n",
    "from numpy import array"
   ]
  },
  {
   "cell_type": "code",
   "execution_count": 2,
   "metadata": {},
   "outputs": [],
   "source": [
    "A = matrix([1.0, 2.0, 3.0, 4.0, 5.0, 6.0], (2,3))"
   ]
  },
  {
   "cell_type": "code",
   "execution_count": 4,
   "metadata": {},
   "outputs": [
    {
     "name": "stdout",
     "output_type": "stream",
     "text": [
      "[ 1.00e+00  3.00e+00  5.00e+00]\n",
      "[ 2.00e+00  4.00e+00  6.00e+00]\n",
      "\n"
     ]
    }
   ],
   "source": [
    "print(A)"
   ]
  },
  {
   "cell_type": "code",
   "execution_count": 5,
   "metadata": {},
   "outputs": [
    {
     "data": {
      "text/plain": [
       "(2, 3)"
      ]
     },
     "execution_count": 5,
     "metadata": {},
     "output_type": "execute_result"
    }
   ],
   "source": [
    "A.size"
   ]
  },
  {
   "cell_type": "code",
   "execution_count": 6,
   "metadata": {},
   "outputs": [
    {
     "name": "stdout",
     "output_type": "stream",
     "text": [
      "[ 1.00e+00  3.00e+00]\n",
      "[ 2.00e+00  4.00e+00]\n",
      "\n"
     ]
    }
   ],
   "source": [
    "B = matrix([ [1.0, 2.0], [3.0, 4.0] ])\n",
    "print(B)"
   ]
  },
  {
   "cell_type": "code",
   "execution_count": 7,
   "metadata": {},
   "outputs": [
    {
     "name": "stdout",
     "output_type": "stream",
     "text": [
      "[ 1.00e+00  3.00e+00  5.00e+00  1.00e+00  3.00e+00]\n",
      "[ 2.00e+00  4.00e+00  6.00e+00  2.00e+00  4.00e+00]\n",
      "\n"
     ]
    }
   ],
   "source": [
    "print(matrix([ [A] ,[B] ]))"
   ]
  },
  {
   "cell_type": "code",
   "execution_count": 10,
   "metadata": {},
   "outputs": [
    {
     "name": "stdout",
     "output_type": "stream",
     "text": [
      "[ 1.00e+00     0    ]\n",
      "[    0      2.00e+00]\n",
      "[    0         0    ]\n",
      "[    0         0    ]\n",
      "\n"
     ]
    }
   ],
   "source": [
    "D = spmatrix([1., 2.], [0, 1], [0, 1], (4,2))\n",
    "print(D)"
   ]
  },
  {
   "cell_type": "code",
   "execution_count": 11,
   "metadata": {},
   "outputs": [
    {
     "name": "stdout",
     "output_type": "stream",
     "text": [
      "[ 1.00e+00  0.00e+00]\n",
      "[ 0.00e+00  2.00e+00]\n",
      "[ 0.00e+00  0.00e+00]\n",
      "[ 0.00e+00  0.00e+00]\n",
      "\n"
     ]
    }
   ],
   "source": [
    "print(matrix(D))"
   ]
  },
  {
   "cell_type": "code",
   "execution_count": 17,
   "metadata": {},
   "outputs": [
    {
     "name": "stdout",
     "output_type": "stream",
     "text": [
      "[ 1.00e+00  3.00e+00  1.00e+00     0    ]\n",
      "[ 2.00e+00  4.00e+00     0      2.00e+00]\n",
      "[ 1.00e+00  3.00e+00     0         0    ]\n",
      "[ 2.00e+00  4.00e+00     0         0    ]\n",
      "\n"
     ]
    }
   ],
   "source": [
    "E = sparse([ [B, B], [D] ])\n",
    "print(E)"
   ]
  },
  {
   "cell_type": "code",
   "execution_count": 20,
   "metadata": {},
   "outputs": [
    {
     "name": "stdout",
     "output_type": "stream",
     "text": [
      "[ 1.00e+00  3.00e+00     0         0         0         0    ]\n",
      "[ 2.00e+00  4.00e+00     0         0         0         0    ]\n",
      "[    0         0     -1.00e+00 -3.00e+00     0         0    ]\n",
      "[    0         0     -2.00e+00 -4.00e+00     0         0    ]\n",
      "[    0         0         0         0      1.00e+00     0    ]\n",
      "[    0         0         0         0         0      2.00e+00]\n",
      "\n"
     ]
    }
   ],
   "source": [
    "print(spdiag([B, -B, 1, 2]))"
   ]
  },
  {
   "cell_type": "markdown",
   "metadata": {},
   "source": [
    "In double-argument indexing a matrix is indexed using two index-sets I and J."
   ]
  },
  {
   "cell_type": "code",
   "execution_count": 22,
   "metadata": {},
   "outputs": [
    {
     "name": "stdout",
     "output_type": "stream",
     "text": [
      "[  0   8]\n",
      "[  1   9]\n",
      "[  2  10]\n",
      "[  3  11]\n",
      "\n"
     ]
    }
   ],
   "source": [
    "A = matrix(range(16),(4,4))\n",
    "print(A[[0,1,2,3],[0,2]])"
   ]
  },
  {
   "cell_type": "code",
   "execution_count": 23,
   "metadata": {},
   "outputs": [
    {
     "name": "stdout",
     "output_type": "stream",
     "text": [
      "[  1   5   9  13]\n",
      "\n",
      "[ 15  11   7   3]\n",
      "[ 14  10   6   2]\n",
      "[ 13   9   5   1]\n",
      "[ 12   8   4   0]\n",
      "\n"
     ]
    }
   ],
   "source": [
    "print(A[1,:])\n",
    "print(A[::-1,::-1])"
   ]
  },
  {
   "cell_type": "markdown",
   "metadata": {},
   "source": [
    "In single-argument indexing a matrix is indexed in vector-form by considering the matrix in column-major order (i.e., by stacking the columns from left to right)."
   ]
  },
  {
   "cell_type": "code",
   "execution_count": 24,
   "metadata": {},
   "outputs": [
    {
     "name": "stdout",
     "output_type": "stream",
     "text": [
      "[ -1   4   8  12]\n",
      "[  1  -1   9  13]\n",
      "[  2   6  -1  14]\n",
      "[  3   7  11  -1]\n",
      "\n"
     ]
    }
   ],
   "source": [
    "A[::5] = -1\n",
    "print(A)"
   ]
  },
  {
   "cell_type": "markdown",
   "metadata": {},
   "source": [
    "Numpy arrays and CVXOPT matrices are compatible and exchange information using the Array Interface."
   ]
  },
  {
   "cell_type": "code",
   "execution_count": 26,
   "metadata": {},
   "outputs": [
    {
     "name": "stdout",
     "output_type": "stream",
     "text": [
      "[ 1  4]\n",
      "[ 2  5]\n",
      "[ 3  6]\n",
      "\n"
     ]
    }
   ],
   "source": [
    "A = matrix([[1,2,3],[4,5,6]])\n",
    "print(A)"
   ]
  },
  {
   "cell_type": "code",
   "execution_count": 28,
   "metadata": {},
   "outputs": [
    {
     "name": "stdout",
     "output_type": "stream",
     "text": [
      "[[1 4]\n",
      " [2 5]\n",
      " [3 6]]\n"
     ]
    }
   ],
   "source": [
    "B = array(A)\n",
    "print(B)"
   ]
  },
  {
   "cell_type": "code",
   "execution_count": 30,
   "metadata": {},
   "outputs": [
    {
     "name": "stdout",
     "output_type": "stream",
     "text": [
      "[ 1  4]\n",
      "[ 2  5]\n",
      "[ 3  6]\n",
      "\n"
     ]
    }
   ],
   "source": [
    "C = matrix(B)\n",
    "print(C)"
   ]
  },
  {
   "cell_type": "markdown",
   "metadata": {},
   "source": [
    "\n",
    "$$\n",
    "\\begin{array}{ll}\n",
    "\\mbox{minimize}   &  2x_1 + x_2 \\\\\n",
    "\\mbox{subject to} &   -x_1  + x_2 \\leq 1 \\\\\n",
    "       & x_1  + x_2 \\geq 2 \\\\\n",
    "       & x_2 \\geq 0 \\\\\n",
    "       & x_1 -2x_2 \\leq 4\n",
    "\\end{array}\n",
    "$$"
   ]
  },
  {
   "cell_type": "code",
   "execution_count": 32,
   "metadata": {},
   "outputs": [
    {
     "name": "stdout",
     "output_type": "stream",
     "text": [
      "[-1.00e+00  1.00e+00]\n",
      "[-1.00e+00 -1.00e+00]\n",
      "[ 0.00e+00 -1.00e+00]\n",
      "[ 1.00e+00 -2.00e+00]\n",
      " [ 1.00e+00]\n",
      "[-2.00e+00]\n",
      "[ 0.00e+00]\n",
      "[ 4.00e+00]\n",
      " [ 2.00e+00]\n",
      "[ 1.00e+00]\n",
      "\n"
     ]
    }
   ],
   "source": [
    "A = matrix([ [-1.0, -1.0, 0.0, 1.0], [1.0, -1.0, -1.0, -2.0] ])\n",
    "b = matrix([ 1.0, -2.0, 0.0, 4.0 ])\n",
    "c = matrix([ 2.0, 1.0 ])\n",
    "print(A, b, c)"
   ]
  },
  {
   "cell_type": "code",
   "execution_count": 33,
   "metadata": {},
   "outputs": [
    {
     "name": "stdout",
     "output_type": "stream",
     "text": [
      "     pcost       dcost       gap    pres   dres   k/t\n",
      " 0:  2.6471e+00 -7.0588e-01  2e+01  8e-01  2e+00  1e+00\n",
      " 1:  3.0726e+00  2.8437e+00  1e+00  1e-01  2e-01  3e-01\n",
      " 2:  2.4891e+00  2.4808e+00  1e-01  1e-02  2e-02  5e-02\n",
      " 3:  2.4999e+00  2.4998e+00  1e-03  1e-04  2e-04  5e-04\n",
      " 4:  2.5000e+00  2.5000e+00  1e-05  1e-06  2e-06  5e-06\n",
      " 5:  2.5000e+00  2.5000e+00  1e-07  1e-08  2e-08  5e-08\n",
      "Optimal solution found.\n"
     ]
    }
   ],
   "source": [
    "sol = solvers.lp(c, A, b)"
   ]
  },
  {
   "cell_type": "code",
   "execution_count": 35,
   "metadata": {},
   "outputs": [
    {
     "name": "stdout",
     "output_type": "stream",
     "text": [
      "[ 5.00e-01]\n",
      "[ 1.50e+00]\n",
      "\n"
     ]
    }
   ],
   "source": [
    "print(sol['x'])"
   ]
  },
  {
   "cell_type": "code",
   "execution_count": null,
   "metadata": {},
   "outputs": [],
   "source": []
  },
  {
   "cell_type": "code",
   "execution_count": null,
   "metadata": {},
   "outputs": [],
   "source": []
  },
  {
   "cell_type": "code",
   "execution_count": null,
   "metadata": {},
   "outputs": [],
   "source": []
  },
  {
   "cell_type": "code",
   "execution_count": null,
   "metadata": {},
   "outputs": [],
   "source": []
  },
  {
   "cell_type": "code",
   "execution_count": null,
   "metadata": {},
   "outputs": [],
   "source": []
  },
  {
   "cell_type": "code",
   "execution_count": null,
   "metadata": {},
   "outputs": [],
   "source": []
  }
 ],
 "metadata": {
  "kernelspec": {
   "display_name": "Python 3.7 (XPython)",
   "language": "python",
   "name": "xpython"
  },
  "language_info": {
   "file_extension": ".py",
   "mimetype": "text/x-python",
   "name": "python",
   "version": "3.7.8"
  }
 },
 "nbformat": 4,
 "nbformat_minor": 4
}
